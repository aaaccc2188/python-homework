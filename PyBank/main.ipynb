{
 "cells": [
  {
   "cell_type": "code",
   "execution_count": 1,
   "metadata": {},
   "outputs": [
    {
     "name": "stdout",
     "output_type": "stream",
     "text": [
      "Financial Analysis\n",
      "------------------\n",
      "Total Months: 86\n",
      "Total: $38382578\n",
      "Average Change: $-2315.12\n",
      "Greatest Increase in Profits: Feb-2012 ($1926159)\n",
      "Greatest Decrease in Profits: Sep-2013 ($-2196167)\n"
     ]
    }
   ],
   "source": [
    "import csv\n",
    "from pathlib import Path\n",
    "import numpy as np\n",
    "\n",
    "csvpath = Path(\"Resources/budget_data.csv\")\n",
    "\n",
    "profits_losses = []\n",
    "dates = []\n",
    "\n",
    "with open(csvpath, 'r') as csvfile:\n",
    "    csvreader = csv.reader(csvfile, delimiter=',')\n",
    "    csv_header = next(csvreader)\n",
    "        \n",
    "    for row in csvreader:\n",
    "        date = row[0]\n",
    "        dates.append(date)\n",
    "        profit_loss = int(row[1])\n",
    "        profits_losses.append(profit_loss)\n",
    "     \n",
    "    a = np.array(profits_losses)\n",
    "    changes = np.diff(a)\n",
    "    list_changes = changes.tolist()\n",
    "      \n",
    "    average_change = (sum(list_changes)) / len(list_changes)\n",
    "      \n",
    "    max_change = max(list_changes)   \n",
    "    max_index = list_changes.index(max_change)\n",
    "    max_change_key = dates[max_index+1]\n",
    "    \n",
    "    min_change = min(list_changes)\n",
    "    min_index = list_changes.index(min_change)\n",
    "    min_change_key = dates[min_index+1]\n",
    "       \n",
    "    total_profit_loss = sum(profits_losses)\n",
    "    \n",
    "    total_months = len(profits_losses)\n",
    "\n",
    "print(\"Financial Analysis\")\n",
    "print(\"------------------\")\n",
    "print(f\"Total Months: {total_months}\")\n",
    "print(f\"Total: ${total_profit_loss}\")\n",
    "print(f\"Average Change: ${round(average_change,2)}\")  \n",
    "print(f\"Greatest Increase in Profits: {max_change_key} (${max_change})\")\n",
    "print(f\"Greatest Decrease in Profits: {min_change_key} (${min_change})\")"
   ]
  }
 ],
 "metadata": {
  "kernelspec": {
   "display_name": "Python 3",
   "language": "python",
   "name": "python3"
  },
  "language_info": {
   "codemirror_mode": {
    "name": "ipython",
    "version": 3
   },
   "file_extension": ".py",
   "mimetype": "text/x-python",
   "name": "python",
   "nbconvert_exporter": "python",
   "pygments_lexer": "ipython3",
   "version": "3.8.3"
  }
 },
 "nbformat": 4,
 "nbformat_minor": 4
}
